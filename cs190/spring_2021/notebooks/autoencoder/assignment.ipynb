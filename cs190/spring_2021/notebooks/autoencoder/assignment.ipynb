{
  "nbformat": 4,
  "nbformat_minor": 0,
  "metadata": {
    "kernelspec": {
      "display_name": "Python 3",
      "language": "python",
      "name": "python3"
    },
    "language_info": {
      "codemirror_mode": {
        "name": "ipython",
        "version": 3
      },
      "file_extension": ".py",
      "mimetype": "text/x-python",
      "name": "python",
      "nbconvert_exporter": "python",
      "pygments_lexer": "ipython3",
      "version": "3.6.12"
    },
    "colab": {
      "name": "assignment.ipynb",
      "provenance": []
    }
  },
  "cells": [
    {
      "cell_type": "markdown",
      "metadata": {
        "id": "f2eAXa06yDkW"
      },
      "source": [
        "# Assignment\n",
        "\n",
        "In this assignment we will build an unsupervised CNN autoencoder network. Subsequently, the pretrained encoding (contracting) backbone of the autoencoder will be used to create a model for survival prediction in brain tumor patients.\n",
        "\n",
        "This assignment is part of the class **Introduction to Deep Learning for Medical Imaging** at University of California Irvine (CS190); more information can be found at: https://github.com/peterchang77/dl_tutor/tree/master/cs190."
      ]
    },
    {
      "cell_type": "markdown",
      "metadata": {
        "id": "tmRLAyoZyDkY"
      },
      "source": [
        "### Submission\n",
        "\n",
        "Once complete, the following items must be submitted:\n",
        "\n",
        "* final `*.ipynb` notebook\n",
        "* final trained `*.hdf5` model file\n",
        "* final compiled `*.csv` file with performance statistics"
      ]
    },
    {
      "cell_type": "markdown",
      "metadata": {
        "id": "56d3oMiMw8Wm"
      },
      "source": [
        "# Google Colab\n",
        "\n",
        "The following lines of code will configure your Google Colab environment for this assignment."
      ]
    },
    {
      "cell_type": "markdown",
      "metadata": {
        "id": "Sz39V-qLyDkY"
      },
      "source": [
        "### Enable GPU runtime\n",
        "\n",
        "Use the following instructions to switch the default Colab instance into a GPU-enabled runtime:\n",
        "\n",
        "```\n",
        "Runtime > Change runtime type > Hardware accelerator > GPU\n",
        "```"
      ]
    },
    {
      "cell_type": "markdown",
      "metadata": {
        "id": "YFjD-AkNyDkZ"
      },
      "source": [
        "# Environment"
      ]
    },
    {
      "cell_type": "markdown",
      "metadata": {
        "id": "9HP9nrvnyDkZ"
      },
      "source": [
        "### Jarvis library\n",
        "\n",
        "In this notebook we will Jarvis, a custom Python package to facilitate data science and deep learning for healthcare. Among other things, this library will be used for low-level data management, stratification and visualization of high-dimensional medical data."
      ]
    },
    {
      "cell_type": "code",
      "metadata": {
        "id": "MC-KitAFyDkZ"
      },
      "source": [
        "# --- Install jarvis (only in Google Colab or local runtime)\n",
        "% pip install jarvis-md"
      ],
      "execution_count": null,
      "outputs": []
    },
    {
      "cell_type": "markdown",
      "metadata": {
        "id": "229BgdwwyDka"
      },
      "source": [
        "### Imports\n",
        "\n",
        "Use the following lines to import any additional needed libraries:"
      ]
    },
    {
      "cell_type": "code",
      "metadata": {
        "id": "o3VMCZ21yDka"
      },
      "source": [
        "import numpy as np, pandas as pd\n",
        "from tensorflow import losses, optimizers\n",
        "from tensorflow.keras import Input, Model, models, layers\n",
        "from jarvis.train import datasets"
      ],
      "execution_count": null,
      "outputs": []
    },
    {
      "cell_type": "markdown",
      "metadata": {
        "id": "IoVOkekvyDka"
      },
      "source": [
        "# Data\n",
        "\n",
        "The data used in this assignment will consist of brain tumor MRI exams derived from the MICCAI Brain Tumor Segmentation Challenge (BRaTS). More information about he BRaTS Challenge can be found here: http://braintumorsegmentation.org/. Each single 2D slice will consist of one of four different sequences (T2, FLAIR, T1 pre-contrast and T1 post-contrast)."
      ]
    },
    {
      "cell_type": "markdown",
      "metadata": {
        "id": "vBrMzMSpyDkb"
      },
      "source": [
        "The following lines of code will:\n",
        "\n",
        "1. Download the dataset (if not already present) \n",
        "2. Prepare the necessary Python generators to iterate through dataset\n",
        "3. Prepare the corresponding Tensorflow Input(...) objects for model definition"
      ]
    },
    {
      "cell_type": "code",
      "metadata": {
        "id": "HeGPJd_DyDkb"
      },
      "source": [
        "# --- Download dataset\n",
        "datasets.download(name='mr/brats-2020-096')\n",
        "\n",
        "# --- Prepare generators and model inputs\n",
        "gen_train, gen_valid, client = datasets.prepare(name='mr/brats-2020-096', keyword='096*glb-org')\n",
        "inputs = client.get_inputs(Input)"
      ],
      "execution_count": null,
      "outputs": []
    },
    {
      "cell_type": "markdown",
      "metadata": {
        "id": "uxlvWpdhyDkb"
      },
      "source": [
        "# Autoencoder\n",
        "\n",
        "In this assignment we will train a convolutional autoencoder. Compared to a standard contract-encoding U-Net architecture for semantic segmentation, two important distinctions should be emphasize:\n",
        "\n",
        "* no \"skip\" connections between the contractind and expanding layers\n",
        "* use of a regression loss function (e.g., MAE or MSE) for optimization"
      ]
    },
    {
      "cell_type": "markdown",
      "metadata": {
        "id": "uiBl3PcvyDkc"
      },
      "source": [
        "### Define model layers\n",
        "\n",
        "*Hint*: Recall that both a shared autoencoder and isolated encoder are needed to ensure that the contracting layers may be reused in a future model."
      ]
    },
    {
      "cell_type": "code",
      "metadata": {
        "id": "EuSMq2CHyDkc"
      },
      "source": [
        "# --- Define model\n",
        "\n",
        "# --- Create autoencoder\n",
        "\n",
        "# --- Create encoder"
      ],
      "execution_count": null,
      "outputs": []
    },
    {
      "cell_type": "markdown",
      "metadata": {
        "id": "DJUH5HK6yDkc"
      },
      "source": [
        "### Generator\n",
        "\n",
        "*Hint*: Recall that the default training generators which yield labels corresponding to survival scores need to be modified to instead yield the original input data. "
      ]
    },
    {
      "cell_type": "code",
      "metadata": {
        "id": "gq15IE18yDkc"
      },
      "source": [
        "def ae_generator(G):\n",
        "    \n",
        "    pass"
      ],
      "execution_count": null,
      "outputs": []
    },
    {
      "cell_type": "markdown",
      "metadata": {
        "id": "w6Fa_ocyyDkd"
      },
      "source": [
        "### Compile the model"
      ]
    },
    {
      "cell_type": "code",
      "metadata": {
        "id": "9q-jpwmiyDkd"
      },
      "source": [
        "# --- Compile model\n",
        "ae.compile(...)"
      ],
      "execution_count": null,
      "outputs": []
    },
    {
      "cell_type": "markdown",
      "metadata": {
        "id": "vFL-ZYaKyDkd"
      },
      "source": [
        "### Train the model"
      ]
    },
    {
      "cell_type": "code",
      "metadata": {
        "id": "ff1xeAN7yDkd"
      },
      "source": [
        "ae.fit(...)"
      ],
      "execution_count": null,
      "outputs": []
    },
    {
      "cell_type": "markdown",
      "metadata": {
        "id": "a08WfSbmyDkd"
      },
      "source": [
        "# Survival Model\n",
        "\n",
        "In the second part of this assignment, you will create a dedicated survival prediction model using the pretrained encoder layers."
      ]
    },
    {
      "cell_type": "code",
      "metadata": {
        "id": "wJjolcY8yDke"
      },
      "source": [
        "# --- Define model"
      ],
      "execution_count": null,
      "outputs": []
    },
    {
      "cell_type": "markdown",
      "metadata": {
        "id": "tYH0R59fyDke"
      },
      "source": [
        "### Compile the model"
      ]
    },
    {
      "cell_type": "code",
      "metadata": {
        "id": "ksAlo3OJyDke"
      },
      "source": [
        "# --- Compile model\n",
        "model.compile(...)"
      ],
      "execution_count": null,
      "outputs": []
    },
    {
      "cell_type": "markdown",
      "metadata": {
        "id": "_KYGRmlNyDke"
      },
      "source": [
        "### Train the model"
      ]
    },
    {
      "cell_type": "code",
      "metadata": {
        "id": "wBpAR_fayDke"
      },
      "source": [
        "model.fit(...)"
      ],
      "execution_count": null,
      "outputs": []
    },
    {
      "cell_type": "markdown",
      "metadata": {
        "id": "jx7yeQA8yDke"
      },
      "source": [
        "# Evaluation\n",
        "\n",
        "Based on the tutorial discussion, use the following cells to calculate model performance. The following metrics should be calculated:\n",
        "\n",
        "* absolute error (mean, median, 25th percentile, 75th percentile)\n",
        "\n",
        "### Performance\n",
        "\n",
        "The following minimum performance metrics must be met for full credit:\n",
        "\n",
        "* median absolute error of < 0.09"
      ]
    },
    {
      "cell_type": "code",
      "metadata": {
        "id": "GBQw9ResyDkf"
      },
      "source": [
        "# --- Create validation generator\n",
        "test_train, test_valid = client.create_generators(test=True)\n",
        "\n",
        "# --- Create nested custom generators"
      ],
      "execution_count": null,
      "outputs": []
    },
    {
      "cell_type": "markdown",
      "metadata": {
        "id": "hDVIXO5PyDkf"
      },
      "source": [
        "### Results\n",
        "\n",
        "When ready, create a `*.csv` file with your compiled **validation** cohort absolute prediction error statistics. There is no need to submit training performance accuracy."
      ]
    },
    {
      "cell_type": "code",
      "metadata": {
        "id": "CD_dWKvoyDkf"
      },
      "source": [
        ""
      ],
      "execution_count": null,
      "outputs": []
    },
    {
      "cell_type": "markdown",
      "metadata": {
        "id": "AYU5HRQHyDkf"
      },
      "source": [
        "# Submission\n",
        "\n",
        "Use the following line to save your model for submission:"
      ]
    },
    {
      "cell_type": "code",
      "metadata": {
        "id": "iLwuCYq0yDkg"
      },
      "source": [
        "# --- Serialize a model\n",
        "model.save('./survival.hdf5')"
      ],
      "execution_count": null,
      "outputs": []
    },
    {
      "cell_type": "markdown",
      "metadata": {
        "id": "y-1VY8L4yDkg"
      },
      "source": [
        "### Canvas\n",
        "\n",
        "Once you have completed this assignment, download the necessary files from Google Colab and your Google Drive. You will then need to submit the following items:\n",
        "\n",
        "* final (completed) notebook: `[UCInetID]_assignment.ipynb`\n",
        "* final (results) spreadsheet: `[UCInetID]_results.csv`\n",
        "* final (trained) model: `[UCInetID]_model.hdf5`\n",
        "\n",
        "**Important**: please submit all your files prefixed with your UCInetID as listed above. Your UCInetID is the part of your UCI email address that comes before `@uci.edu`. For example, Peter Anteater has an email address of panteater@uci.edu, so his notebooke file would be submitted under the name `panteater_notebook.ipynb`, his spreadshhet would be submitted under the name `panteater_results.csv` and and his model file would be submitted under the name `panteater_model.hdf5`."
      ]
    }
  ]
}